{
 "cells": [
  {
   "cell_type": "code",
   "execution_count": 3,
   "metadata": {},
   "outputs": [
    {
     "name": "stdout",
     "output_type": "stream",
     "text": [
      "Number of original training examples: 60000\n",
      "Number of original test examples: 10000\n"
     ]
    }
   ],
   "source": [
    "import tensorflow as tf\n",
    "import tensorflow_quantum as tfq\n",
    "\n",
    "from tensorflow.keras import datasets, layers, models\n",
    "\n",
    "import cirq\n",
    "import sympy\n",
    "import numpy as np\n",
    "import collections\n",
    "\n",
    "# visualization tools\n",
    "%matplotlib inline\n",
    "import matplotlib as mpl\n",
    "import matplotlib.pyplot as plt\n",
    "from cirq.contrib.svg import SVGCircuit\n",
    "\n",
    "(x_train, y_train), (x_test, y_test) = tf.keras.datasets.mnist.load_data()\n",
    "\n",
    "# Rescale the images from [0,255] to the [0.0,1.0] range.\n",
    "x_train, x_test = x_train[..., np.newaxis]/255.0, x_test[..., np.newaxis]/255.0\n",
    "\n",
    "print(\"Number of original training examples:\", len(x_train))\n",
    "print(\"Number of original test examples:\", len(x_test))"
   ]
  },
  {
   "cell_type": "code",
   "execution_count": 4,
   "metadata": {
    "collapsed": true
   },
   "outputs": [],
   "source": [
    "x_train= tf.cast(x_train, tf.float32)\n",
    "x_test=tf.cast(x_test, tf.float32)\n",
    "\n",
    "x_train = tf.image.resize(x_train[:], (10,10)).numpy()\n",
    "x_test = tf.image.resize(x_test[:], (10,10)).numpy()\n",
    "\n",
    "y_train = y_train[:]\n",
    "y_test = y_test[:]"
   ]
  },
  {
   "cell_type": "code",
   "execution_count": 5,
   "metadata": {},
   "outputs": [
    {
     "name": "stdout",
     "output_type": "stream",
     "text": [
      "5\n"
     ]
    },
    {
     "data": {
      "image/png": "[encoded data removed]",
      "text/plain": [
       "<Figure size 432x288 with 2 Axes>"
      ]
     },
     "metadata": {},
     "output_type": "display_data"
    }
   ],
   "source": [
    "print(y_train[0])\n",
    "fig = plt.figure()\n",
    "plt.imshow(x_train[0, :, :, 0], cmap='gray_r')\n",
    "plt.colorbar()\n",
    "fig.savefig('sample', dpi=300)"
   ]
  },
  {
   "cell_type": "code",
   "execution_count": 6,
   "metadata": {
    "collapsed": true
   },
   "outputs": [],
   "source": [
    "width = np.shape(x_train)[1]\n",
    "height = np.shape(x_train)[2]\n",
    "\n",
    "fc_model = models.Sequential()\n",
    "\n",
    "fc_model.add(layers.Flatten(input_shape=(width,height,1)))\n",
    "fc_model.add(layers.Dense(32, activation='relu'))\n",
    "fc_model.add(layers.Dense(10, activation='softmax'))"
   ]
  },
  {
   "cell_type": "code",
   "execution_count": 9,
   "metadata": {},
   "outputs": [
    {
     "name": "stdout",
     "output_type": "stream",
     "text": [
      "Train on 60000 samples, validate on 10000 samples\n",
      "Epoch 1/10\n",
      " 2500/60000 [>.............................] - ETA: 38s - loss: 0.2075 - accuracy: 0.9404 - val_loss: 0.2115 - val_accuracy: 0.9381Epoch 2/10\n",
      " 2500/60000 [>.............................] - ETA: 36s - loss: 0.2264 - accuracy: 0.9316 - val_loss: 0.2135 - val_accuracy: 0.9352Epoch 3/10\n",
      " 2500/60000 [>.............................] - ETA: 38s - loss: 0.1969 - accuracy: 0.9384 - val_loss: 0.2094 - val_accuracy: 0.9364Epoch 4/10\n",
      " 2500/60000 [>.............................] - ETA: 36s - loss: 0.2058 - accuracy: 0.9392 - val_loss: 0.2056 - val_accuracy: 0.9402Epoch 5/10\n",
      " 2500/60000 [>.............................] - ETA: 38s - loss: 0.2280 - accuracy: 0.9344 - val_loss: 0.2066 - val_accuracy: 0.9400Epoch 6/10\n",
      " 2500/60000 [>.............................] - ETA: 36s - loss: 0.2147 - accuracy: 0.9328 - val_loss: 0.2038 - val_accuracy: 0.9389Epoch 7/10\n",
      " 2500/60000 [>.............................] - ETA: 36s - loss: 0.1814 - accuracy: 0.9412 - val_loss: 0.2053 - val_accuracy: 0.9384Epoch 8/10\n",
      " 2500/60000 [>.............................] - ETA: 36s - loss: 0.2229 - accuracy: 0.9320 - val_loss: 0.2094 - val_accuracy: 0.9363Epoch 9/10\n",
      " 2500/60000 [>.............................] - ETA: 36s - loss: 0.2325 - accuracy: 0.9332 - val_loss: 0.1985 - val_accuracy: 0.9412Epoch 10/10\n",
      " 2500/60000 [>.............................] - ETA: 35s - loss: 0.2156 - accuracy: 0.9352 - val_loss: 0.1990 - val_accuracy: 0.9407"
     ]
    }
   ],
   "source": [
    "fc_model.compile(optimizer='adam',\n",
    "              loss='sparse_categorical_crossentropy',\n",
    "              metrics=['accuracy'])\n",
    "\n",
    "fc_history = fc_model.fit(x_train, y_train, steps_per_epoch=500,\n",
    "                        validation_data=(x_test, y_test), \n",
    "                        epochs=10, batch_size=5)"
   ]
  },
  {
   "cell_type": "code",
   "execution_count": 10,
   "metadata": {
    "collapsed": true
   },
   "outputs": [],
   "source": [
    "width = np.shape(x_train)[1]\n",
    "height = np.shape(x_train)[2]\n",
    "\n",
    "cnn_model = models.Sequential()\n",
    "\n",
    "cnn_model.add(layers.Conv2D(8, (2, 2), activation='relu', input_shape=(width, height, 1)))\n",
    "#model.add(layers.MaxPooling2D((2, 2)))\n",
    "#model.add(layers.Conv2D(16, (2, 2), activation='relu'))\n",
    "\n",
    "cnn_model.add(layers.Flatten())\n",
    "cnn_model.add(layers.Dense(32, activation='relu'))\n",
    "cnn_model.add(layers.Dense(10, activation='softmax'))"
   ]
  },
  {
   "cell_type": "code",
   "execution_count": 11,
   "metadata": {},
   "outputs": [
    {
     "name": "stdout",
     "output_type": "stream",
     "text": [
      "Model: \"sequential_1\"\n",
      "_________________________________________________________________\n",
      "Layer (type)                 Output Shape              Param #   \n",
      "=================================================================\n",
      "conv2d (Conv2D)              (None, 9, 9, 8)           40        \n",
      "_________________________________________________________________\n",
      "flatten_1 (Flatten)          (None, 648)               0         \n",
      "_________________________________________________________________\n",
      "dense_2 (Dense)              (None, 32)                20768     \n",
      "_________________________________________________________________\n",
      "dense_3 (Dense)              (None, 10)                330       \n",
      "=================================================================\n",
      "Total params: 21,138\n",
      "Trainable params: 21,138\n",
      "Non-trainable params: 0\n",
      "_________________________________________________________________\n"
     ]
    }
   ],
   "source": [
    "cnn_model.summary()"
   ]
  },
  {
   "cell_type": "code",
   "execution_count": 12,
   "metadata": {},
   "outputs": [
    {
     "name": "stdout",
     "output_type": "stream",
     "text": [
      "Train on 60000 samples, validate on 10000 samples\n",
      "Epoch 1/10\n",
      " 2500/60000 [>.............................] - ETA: 46s - loss: 1.0395 - accuracy: 0.6944 - val_loss: 0.4988 - val_accuracy: 0.8587Epoch 2/10\n",
      " 2500/60000 [>.............................] - ETA: 41s - loss: 0.4474 - accuracy: 0.8660 - val_loss: 0.3693 - val_accuracy: 0.8901Epoch 3/10\n",
      " 2500/60000 [>.............................] - ETA: 40s - loss: 0.3757 - accuracy: 0.8824 - val_loss: 0.3540 - val_accuracy: 0.8906Epoch 4/10\n",
      " 2500/60000 [>.............................] - ETA: 38s - loss: 0.3582 - accuracy: 0.8844 - val_loss: 0.2965 - val_accuracy: 0.9112Epoch 5/10\n",
      " 2500/60000 [>.............................] - ETA: 38s - loss: 0.3313 - accuracy: 0.9044 - val_loss: 0.2876 - val_accuracy: 0.9141Epoch 6/10\n",
      " 2500/60000 [>.............................] - ETA: 40s - loss: 0.2877 - accuracy: 0.9152 - val_loss: 0.2710 - val_accuracy: 0.9168Epoch 7/10\n",
      " 2500/60000 [>.............................] - ETA: 39s - loss: 0.3001 - accuracy: 0.9200 - val_loss: 0.2628 - val_accuracy: 0.9190Epoch 8/10\n",
      " 2500/60000 [>.............................] - ETA: 39s - loss: 0.2942 - accuracy: 0.9024 - val_loss: 0.2554 - val_accuracy: 0.9191Epoch 9/10\n",
      " 2500/60000 [>.............................] - ETA: 40s - loss: 0.2682 - accuracy: 0.9216 - val_loss: 0.2314 - val_accuracy: 0.9275Epoch 10/10\n",
      " 2500/60000 [>.............................] - ETA: 39s - loss: 0.2287 - accuracy: 0.9316 - val_loss: 0.2147 - val_accuracy: 0.9378"
     ]
    }
   ],
   "source": [
    "cnn_model.compile(optimizer=tf.optimizers.Adam(),\n",
    "              loss='sparse_categorical_crossentropy',\n",
    "              metrics=['accuracy'])\n",
    "\n",
    "cnn_history = cnn_model.fit(x_train, y_train, steps_per_epoch=500,\n",
    "                        validation_data=(x_test, y_test), \n",
    "                        epochs=10, batch_size=5)"
   ]
  },
  {
   "cell_type": "code",
   "execution_count": 13,
   "metadata": {},
   "outputs": [
    {
     "name": "stdout",
     "output_type": "stream",
     "text": [
      "10000/10000 - 0s - loss: 0.2147 - accuracy: 0.9378\n"
     ]
    }
   ],
   "source": [
    "test_loss, test_acc = cnn_model.evaluate(x_test, y_test, verbose=2)"
   ]
  },
  {
   "cell_type": "code",
   "execution_count": 14,
   "metadata": {
    "collapsed": true
   },
   "outputs": [],
   "source": [
    "class QConv(tf.keras.layers.Layer):\n",
    "    def __init__(self, filter_size, depth, activation=None, name=None, kernel_regularizer=None, **kwangs):\n",
    "        super(QConv, self).__init__(name=name, **kwangs)\n",
    "        self.filter_size = filter_size\n",
    "        self.depth = depth\n",
    "        self.learning_params = []\n",
    "        self.QCNN_layer_gen()\n",
    "        # self.circuit_tensor = tfq.convert_to_tensor([self.circuit])\n",
    "        self.activation = tf.keras.layers.Activation(activation)\n",
    "        self.kernel_regularizer = kernel_regularizer\n",
    "\n",
    "    def _next_qubit_set(self, original_size, next_size, qubits):\n",
    "        step = original_size // next_size\n",
    "        qubit_list = []\n",
    "        for i in range(0, original_size, step):\n",
    "            for j in range(0, original_size, step):\n",
    "                qubit_list.append(qubits[original_size*i + j])\n",
    "        return qubit_list\n",
    "\n",
    "    def _get_new_param(self):\n",
    "        \"\"\"\n",
    "        return new learnable parameter\n",
    "        all returned parameter saved in self.learning_params\n",
    "        \"\"\"\n",
    "        new_param = sympy.symbols(\"p\"+str(len(self.learning_params)))\n",
    "        self.learning_params.append(new_param)\n",
    "        return new_param\n",
    "    \n",
    "    def _QConv(self, step, target, qubits):\n",
    "        \"\"\"\n",
    "        apply learnable gates each quantum convolutional layer level\n",
    "        \"\"\"\n",
    "        yield cirq.CZPowGate(exponent=self._get_new_param())(qubits[target], qubits[target+step])\n",
    "        yield cirq.CXPowGate(exponent=self._get_new_param())(qubits[target], qubits[target+step])\n",
    "        \n",
    "    def QCNN_layer_gen(self):\n",
    "        \"\"\"\n",
    "        make quantum convolutional layer in QConv layer\n",
    "        \"\"\"\n",
    "        pixels = self.filter_size**2\n",
    "        # filter size: 2^n only for this version!\n",
    "        if np.log2(pixels) % 1 != 0:\n",
    "            raise NotImplementedError(\"filter size: 2^n only available\")\n",
    "        cirq_qubits = cirq.GridQubit.rect(self.filter_size, self.filter_size)\n",
    "        # mapping input data to circuit\n",
    "        input_circuit = cirq.Circuit()\n",
    "        input_params = [sympy.symbols('a%d' %i) for i in range(pixels)]\n",
    "        for i, qubit in enumerate(cirq_qubits):\n",
    "            input_circuit.append(cirq.rx(np.pi*input_params[i])(qubit))\n",
    "        # apply learnable gate set to QCNN circuit\n",
    "        QCNN_circuit = cirq.Circuit()\n",
    "        step_size = [2**i for i in range(np.log2(pixels).astype(np.int32))]\n",
    "        for step in step_size:\n",
    "            for target in range(0, pixels, 2*step):\n",
    "                QCNN_circuit.append(self._QConv(step, target, cirq_qubits))\n",
    "        # merge the circuits\n",
    "        full_circuit = cirq.Circuit()\n",
    "        full_circuit.append(input_circuit)\n",
    "        full_circuit.append(QCNN_circuit)\n",
    "        self.circuit = full_circuit # save circuit to the QCNN layer obj.\n",
    "        self.params = input_params + self.learning_params\n",
    "        self.op = cirq.Z(cirq_qubits[0])\n",
    "        \n",
    "    def build(self, input_shape):\n",
    "        self.width = input_shape[1]\n",
    "        self.height = input_shape[2]\n",
    "        self.channel = input_shape[3]\n",
    "        self.num_x = self.width - self.filter_size + 1\n",
    "        self.num_y = self.height - self.filter_size + 1\n",
    "        \n",
    "        self.kernel = self.add_weight(name=\"kenel\", \n",
    "                                      shape=[self.depth, \n",
    "                                             self.channel, \n",
    "                                             len(self.learning_params)],\n",
    "                                     initializer=tf.keras.initializers.glorot_normal(),\n",
    "                                     regularizer=self.kernel_regularizer)\n",
    "        self.circuit_tensor = tfq.convert_to_tensor([self.circuit] * self.num_x * self.num_y * self.channel)\n",
    "        \n",
    "    def call(self, inputs):\n",
    "        # input shape: [N, width, height, channel]\n",
    "        # slide and collect data\n",
    "        stack_set = None\n",
    "        for i in range(self.num_x):\n",
    "            for j in range(self.num_y):\n",
    "                slice_part = tf.slice(inputs, [0, i, j, 0], [-1, self.filter_size, self.filter_size, -1])\n",
    "                slice_part = tf.reshape(slice_part, shape=[-1, 1, self.filter_size, self.filter_size, self.channel])\n",
    "                if stack_set == None:\n",
    "                    stack_set = slice_part\n",
    "                else:\n",
    "                    stack_set = tf.concat([stack_set, slice_part], 1)  \n",
    "        # -> shape: [N, num_x*num_y, filter_size, filter_size, channel]\n",
    "        stack_set = tf.transpose(stack_set, perm=[0, 1, 4, 2, 3])\n",
    "        # -> shape: [N, num_x*num_y, channel, filter_size, fiter_size]\n",
    "        stack_set = tf.reshape(stack_set, shape=[-1, self.filter_size**2])\n",
    "        # -> shape: [N*num_x*num_y*channel, filter_size^2]\n",
    "        \n",
    "        # total input citcuits: N * num_x * num_y * channel\n",
    "        circuit_inputs = tf.tile([self.circuit_tensor], [tf.shape(inputs)[0], 1])\n",
    "        circuit_inputs = tf.reshape(circuit_inputs, shape=[-1])\n",
    "        tf.fill([tf.shape(inputs)[0]*self.num_x*self.num_y, 1], 1)\n",
    "        outputs = []\n",
    "        for i in range(self.depth):\n",
    "            controller = tf.tile(self.kernel[i], [tf.shape(inputs)[0]*self.num_x*self.num_y, 1])\n",
    "            outputs.append(self.single_depth_QCNN(stack_set, controller, circuit_inputs))\n",
    "            # shape: [N, num_x, num_y] \n",
    "            \n",
    "        output_tensor = tf.stack(outputs, axis=3)\n",
    "        output_tensor = tf.math.acos(tf.clip_by_value(output_tensor, -1+1e-5, 1-1e-5)) / np.pi\n",
    "        # output_tensor = tf.clip_by_value(tf.math.acos(output_tensor)/np.pi, -1, 1)\n",
    "        return self.activation(output_tensor)\n",
    "          \n",
    "    def single_depth_QCNN(self, input_data, controller, circuit_inputs):\n",
    "        \"\"\"\n",
    "        make QCNN for 1 channel only\n",
    "        \"\"\"\n",
    "        # input shape: [N*num_x*num_y*channel, filter_size^2]\n",
    "        # controller shape: [N*num_x*num_y*channel, len(learning_params)]\n",
    "        input_data = tf.concat([input_data, controller], 1)\n",
    "        # input_data shape: [N*num_x*num_y*channel, len(learning_params)]\n",
    "        QCNN_output = tfq.layers.Expectation()(circuit_inputs, \n",
    "                                               symbol_names=self.params,\n",
    "                                               symbol_values=input_data,\n",
    "                                               operators=self.op)\n",
    "        # QCNN_output shape: [N*num_x*num_y*channel]\n",
    "        QCNN_output = tf.reshape(QCNN_output, shape=[-1, self.num_x, self.num_y, self.channel])\n",
    "        return tf.math.reduce_sum(QCNN_output, 3)\n"
   ]
  },
  {
   "cell_type": "code",
   "execution_count": 15,
   "metadata": {
    "collapsed": true
   },
   "outputs": [],
   "source": [
    "\n",
    "\n",
    "width = np.shape(x_train)[1]\n",
    "height = np.shape(x_train)[2]\n",
    "\n",
    "qcnn_model = models.Sequential()\n",
    "\n",
    "\n",
    "qcnn_model.add(QConv(filter_size=2, depth=8, activation='relu', \n",
    "                     name='qconv1', input_shape=(width, height, 1)))\n",
    "#model.add(layers.Conv2D(16, (2, 2), activation='relu'))\n",
    "qcnn_model.add(layers.Flatten())\n",
    "qcnn_model.add(layers.Dense(32, activation='relu'))\n",
    "qcnn_model.add(layers.Dense(10, activation='softmax'))\n",
    "\n"
   ]
  },
  {
   "cell_type": "code",
   "execution_count": 16,
   "metadata": {},
   "outputs": [
    {
     "name": "stdout",
     "output_type": "stream",
     "text": [
      "Model: \"sequential_2\"\n",
      "_________________________________________________________________\n",
      "Layer (type)                 Output Shape              Param #   \n",
      "=================================================================\n",
      "qconv1 (QConv)               (None, 9, 9, 8)           48        \n",
      "_________________________________________________________________\n",
      "flatten_2 (Flatten)          (None, 648)               0         \n",
      "_________________________________________________________________\n",
      "dense_4 (Dense)              (None, 32)                20768     \n",
      "_________________________________________________________________\n",
      "dense_5 (Dense)              (None, 10)                330       \n",
      "=================================================================\n",
      "Total params: 21,146\n",
      "Trainable params: 21,146\n",
      "Non-trainable params: 0\n",
      "_________________________________________________________________\n"
     ]
    }
   ],
   "source": [
    "qcnn_model.summary()"
   ]
  },
  {
   "cell_type": "code",
   "execution_count": 17,
   "metadata": {},
   "outputs": [
    {
     "data": {
      "image/svg+xml": [
       "<svg xmlns=\"http://www.w3.org/2000/svg\" width=\"552.5065625\" height=\"200.0\"><line x1=\"32.246796875\" x2=\"522.5065625\" y1=\"25.0\" y2=\"25.0\" stroke=\"#1967d2\" stroke-width=\"1\" /><line x1=\"32.246796875\" x2=\"522.5065625\" y1=\"75.0\" y2=\"75.0\" stroke=\"#1967d2\" stroke-width=\"1\" /><line x1=\"32.246796875\" x2=\"522.5065625\" y1=\"125.0\" y2=\"125.0\" stroke=\"#1967d2\" stroke-width=\"1\" /><line x1=\"32.246796875\" x2=\"522.5065625\" y1=\"175.0\" y2=\"175.0\" stroke=\"#1967d2\" stroke-width=\"1\" /><line x1=\"293.48626953125006\" x2=\"293.48626953125006\" y1=\"25.0\" y2=\"75.0\" stroke=\"black\" stroke-width=\"3\" /><line x1=\"293.48626953125006\" x2=\"293.48626953125006\" y1=\"125.0\" y2=\"175.0\" stroke=\"black\" stroke-width=\"3\" /><line x1=\"356.339921875\" x2=\"356.339921875\" y1=\"25.0\" y2=\"75.0\" stroke=\"black\" stroke-width=\"3\" /><line x1=\"356.339921875\" x2=\"356.339921875\" y1=\"125.0\" y2=\"175.0\" stroke=\"black\" stroke-width=\"3\" /><line x1=\"419.19029296875\" x2=\"419.19029296875\" y1=\"25.0\" y2=\"125.0\" stroke=\"black\" stroke-width=\"3\" /><line x1=\"482.0778515625\" x2=\"482.0778515625\" y1=\"25.0\" y2=\"125.0\" stroke=\"black\" stroke-width=\"3\" /><rect x=\"10.0\" y=\"5.0\" width=\"44.49359375\" height=\"40\" stroke=\"black\" fill=\"white\" stroke-width=\"0\" /><text x=\"32.246796875\" y=\"25.0\" dominant-baseline=\"middle\" text-anchor=\"middle\" font-size=\"14px\">(0, 0): </text><rect x=\"10.0\" y=\"55.0\" width=\"44.49359375\" height=\"40\" stroke=\"black\" fill=\"white\" stroke-width=\"0\" /><text x=\"32.246796875\" y=\"75.0\" dominant-baseline=\"middle\" text-anchor=\"middle\" font-size=\"14px\">(0, 1): </text><rect x=\"10.0\" y=\"105.0\" width=\"44.49359375\" height=\"40\" stroke=\"black\" fill=\"white\" stroke-width=\"0\" /><text x=\"32.246796875\" y=\"125.0\" dominant-baseline=\"middle\" text-anchor=\"middle\" font-size=\"14px\">(1, 0): </text><rect x=\"10.0\" y=\"155.0\" width=\"44.49359375\" height=\"40\" stroke=\"black\" fill=\"white\" stroke-width=\"0\" /><text x=\"32.246796875\" y=\"175.0\" dominant-baseline=\"middle\" text-anchor=\"middle\" font-size=\"14px\">(1, 1): </text><rect x=\"74.49359375\" y=\"5.0\" width=\"176.53054687500003\" height=\"40\" stroke=\"black\" fill=\"white\" stroke-width=\"1\" /><text x=\"162.75886718750002\" y=\"25.0\" dominant-baseline=\"middle\" text-anchor=\"middle\" font-size=\"14px\">Rx(3.14159265358979*a0)</text><rect x=\"74.49359375\" y=\"55.0\" width=\"176.53054687500003\" height=\"40\" stroke=\"black\" fill=\"white\" stroke-width=\"1\" /><text x=\"162.75886718750002\" y=\"75.0\" dominant-baseline=\"middle\" text-anchor=\"middle\" font-size=\"14px\">Rx(3.14159265358979*a1)</text><rect x=\"74.49359375\" y=\"105.0\" width=\"176.53054687500003\" height=\"40\" stroke=\"black\" fill=\"white\" stroke-width=\"1\" /><text x=\"162.75886718750002\" y=\"125.0\" dominant-baseline=\"middle\" text-anchor=\"middle\" font-size=\"14px\">Rx(3.14159265358979*a2)</text><rect x=\"74.49359375\" y=\"155.0\" width=\"176.53054687500003\" height=\"40\" stroke=\"black\" fill=\"white\" stroke-width=\"1\" /><text x=\"162.75886718750002\" y=\"175.0\" dominant-baseline=\"middle\" text-anchor=\"middle\" font-size=\"14px\">Rx(3.14159265358979*a3)</text><circle cx=\"293.48626953125006\" cy=\"25.0\" r=\"10.0\" /><rect x=\"271.0241406250001\" y=\"55.0\" width=\"44.9242578125\" height=\"40\" stroke=\"black\" fill=\"white\" stroke-width=\"1\" /><text x=\"293.48626953125006\" y=\"75.0\" dominant-baseline=\"middle\" text-anchor=\"middle\" font-size=\"14px\">@^p0</text><circle cx=\"293.48626953125006\" cy=\"125.0\" r=\"10.0\" /><rect x=\"271.0241406250001\" y=\"155.0\" width=\"44.9242578125\" height=\"40\" stroke=\"black\" fill=\"white\" stroke-width=\"1\" /><text x=\"293.48626953125006\" y=\"175.0\" dominant-baseline=\"middle\" text-anchor=\"middle\" font-size=\"14px\">@^p2</text><circle cx=\"356.339921875\" cy=\"25.0\" r=\"10.0\" /><rect x=\"335.94839843750003\" y=\"55.0\" width=\"40.783046875\" height=\"40\" stroke=\"black\" fill=\"white\" stroke-width=\"1\" /><text x=\"356.339921875\" y=\"75.0\" dominant-baseline=\"middle\" text-anchor=\"middle\" font-size=\"14px\">X^p1</text><circle cx=\"356.339921875\" cy=\"125.0\" r=\"10.0\" /><rect x=\"335.94839843750003\" y=\"155.0\" width=\"40.783046875\" height=\"40\" stroke=\"black\" fill=\"white\" stroke-width=\"1\" /><text x=\"356.339921875\" y=\"175.0\" dominant-baseline=\"middle\" text-anchor=\"middle\" font-size=\"14px\">X^p3</text><circle cx=\"419.19029296875\" cy=\"25.0\" r=\"10.0\" /><rect x=\"396.7314453125\" y=\"105.0\" width=\"44.9176953125\" height=\"40\" stroke=\"black\" fill=\"white\" stroke-width=\"1\" /><text x=\"419.19029296875\" y=\"125.0\" dominant-baseline=\"middle\" text-anchor=\"middle\" font-size=\"14px\">@^p4</text><circle cx=\"482.0778515625\" cy=\"25.0\" r=\"10.0\" /><rect x=\"461.649140625\" y=\"105.0\" width=\"40.857421875\" height=\"40\" stroke=\"black\" fill=\"white\" stroke-width=\"1\" /><text x=\"482.0778515625\" y=\"125.0\" dominant-baseline=\"middle\" text-anchor=\"middle\" font-size=\"14px\">X^p5</text></svg>"
      ],
      "text/plain": [
       "<cirq.contrib.svg.svg.SVGCircuit at 0x2384e04fc50>"
      ]
     },
     "execution_count": 17,
     "metadata": {},
     "output_type": "execute_result"
    }
   ],
   "source": [
    "SVGCircuit(QConv(filter_size=2, depth=0, activation='relu').circuit)"
   ]
  },
  {
   "cell_type": "code",
   "execution_count": 18,
   "metadata": {},
   "outputs": [
    {
     "name": "stdout",
     "output_type": "stream",
     "text": [
      "Train on 60000 samples, validate on 10000 samples\n",
      "Epoch 1/10\n",
      " 2500/60000 [>.............................] - ETA: 1:53:15 - loss: 0.9670 - accuracy: 0.7284 - val_loss: 0.6041 - val_accuracy: 0.8141Epoch 2/10\n",
      " 2500/60000 [>.............................] - ETA: 1:56:36 - loss: 0.5473 - accuracy: 0.8336 - val_loss: 0.4674 - val_accuracy: 0.8600Epoch 3/10\n",
      " 2500/60000 [>.............................] - ETA: 1:57:01 - loss: 0.4766 - accuracy: 0.8504 - val_loss: 0.4073 - val_accuracy: 0.8773Epoch 4/10\n",
      " 2500/60000 [>.............................] - ETA: 1:56:49 - loss: 0.4577 - accuracy: 0.8588 - val_loss: 0.4096 - val_accuracy: 0.8817Epoch 5/10\n",
      " 2500/60000 [>.............................] - ETA: 1:57:53 - loss: 0.4149 - accuracy: 0.8796 - val_loss: 0.3773 - val_accuracy: 0.8888Epoch 6/10\n",
      " 2500/60000 [>.............................] - ETA: 1:57:26 - loss: 0.4003 - accuracy: 0.8808 - val_loss: 0.3757 - val_accuracy: 0.8904Epoch 7/10\n",
      " 2500/60000 [>.............................] - ETA: 1:57:09 - loss: 0.3800 - accuracy: 0.8832 - val_loss: 0.3411 - val_accuracy: 0.8977Epoch 8/10\n",
      " 2500/60000 [>.............................] - ETA: 1:58:42 - loss: 0.4025 - accuracy: 0.8836 - val_loss: 0.3281 - val_accuracy: 0.9038Epoch 9/10\n",
      " 2500/60000 [>.............................] - ETA: 2:03:04 - loss: 0.3571 - accuracy: 0.8964 - val_loss: 0.3542 - val_accuracy: 0.8910Epoch 10/10\n",
      " 2500/60000 [>.............................] - ETA: 2:01:58 - loss: 0.3563 - accuracy: 0.8968 - val_loss: 0.3154 - val_accuracy: 0.9041"
     ]
    }
   ],
   "source": [
    "qcnn_model.compile(optimizer=tf.keras.optimizers.Adam(),\n",
    "              loss='sparse_categorical_crossentropy',\n",
    "              metrics=['accuracy'])\n",
    "\n",
    "qcnn_history = qcnn_model.fit(x_train, y_train, steps_per_epoch=500,\n",
    "                        validation_data=(x_test, y_test), \n",
    "                        epochs=10, batch_size=5)"
   ]
  },
  {
   "cell_type": "code",
   "execution_count": 19,
   "metadata": {},
   "outputs": [
    {
     "name": "stdout",
     "output_type": "stream",
     "text": [
      "10000/10000 - 86s - loss: 0.3154 - accuracy: 0.9041\n"
     ]
    }
   ],
   "source": [
    "test_loss, test_acc = qcnn_model.evaluate(x_test, y_test, verbose=2)"
   ]
  },
  {
   "cell_type": "code",
   "execution_count": 20,
   "metadata": {},
   "outputs": [
    {
     "data": {
      "image/png": "[encoded data removed]",
      "text/plain": [
       "<Figure size 432x288 with 1 Axes>"
      ]
     },
     "metadata": {},
     "output_type": "display_data"
    },
    {
     "data": {
      "image/png": "[encoded data removed]",
      "text/plain": [
       "<Figure size 432x288 with 1 Axes>"
      ]
     },
     "metadata": {},
     "output_type": "display_data"
    },
    {
     "data": {
      "image/png": "[encoded data removed]",
      "text/plain": [
       "<Figure size 432x288 with 1 Axes>"
      ]
     },
     "metadata": {},
     "output_type": "display_data"
    },
    {
     "data": {
      "image/png": "[encoded data removed]",
      "text/plain": [
       "<Figure size 432x288 with 1 Axes>"
      ]
     },
     "metadata": {},
     "output_type": "display_data"
    },
    {
     "data": {
      "image/png": "[encoded data removed]",
      "text/plain": [
       "<Figure size 432x288 with 1 Axes>"
      ]
     },
     "metadata": {},
     "output_type": "display_data"
    },
    {
     "data": {
      "image/png": "[encoded data removed]",
      "text/plain": [
       "<Figure size 432x288 with 1 Axes>"
      ]
     },
     "metadata": {},
     "output_type": "display_data"
    },
    {
     "data": {
      "image/png": "[encoded data removed]",
      "text/plain": [
       "<Figure size 432x288 with 1 Axes>"
      ]
     },
     "metadata": {},
     "output_type": "display_data"
    },
    {
     "data": {
      "image/png": "[encoded data removed]",
      "text/plain": [
       "<Figure size 432x288 with 1 Axes>"
      ]
     },
     "metadata": {},
     "output_type": "display_data"
    }
   ],
   "source": [
    "\n",
    "\n",
    "for i in range(8):\n",
    "    fig = plt.figure()\n",
    "    plt.axis('off')\n",
    "    plt.imshow(qcnn_model.get_layer('qconv1')(x_train[0:1,:,:,:])[0,:,:,i], cmap='gray_r')\n",
    "    fig.savefig('qcnn_%d'%i, dpi=300, bbox_inches='tight')\n",
    "\n"
   ]
  },
  {
   "cell_type": "code",
   "execution_count": 21,
   "metadata": {
    "collapsed": true
   },
   "outputs": [],
   "source": [
    "def plot_loss_curves(fc_loss, cnn_loss, qcnn_loss):\n",
    "    fig = plt.figure()\n",
    "    plt.plot(np.arange(len(fc_loss)) + 1, fc_loss, \"go-\", label=\"fully-connected\")\n",
    "    plt.plot(np.arange(len(cnn_loss)) + 1, cnn_loss, \"rs-\", label=\"CNN\")\n",
    "    plt.plot(np.arange(len(qcnn_loss)) + 1, qcnn_loss, \"b^-\", label=\"QCNN\")\n",
    "    plt.gca().xaxis.set_major_locator(mpl.ticker.MaxNLocator(integer=True))\n",
    "    plt.axis([1, 50, 0, 1])\n",
    "    plt.legend(fontsize=14)\n",
    "    plt.xlabel(\"Epochs\")\n",
    "    plt.ylabel(\"Test set loss\")\n",
    "    plt.grid(True)\n",
    "    fig.savefig('loss.png', dpi=300)\n",
    "    \n",
    "def plot_loss_curves_small(fc_loss, cnn_loss, qcnn_loss):\n",
    "    fig = plt.figure()\n",
    "    plt.plot(np.arange(len(fc_loss))[::2] + 1, fc_loss[::2], \"go-\", label=\"fully-connected\")\n",
    "    plt.plot(np.arange(len(cnn_loss))[::2] + 1, cnn_loss[::2], \"rs-\", label=\"CNN\")\n",
    "    plt.plot(np.arange(len(qcnn_loss))[::2] + 1, qcnn_loss[::2], \"b^-\", label=\"QCNN\")\n",
    "    plt.gca().xaxis.set_major_locator(mpl.ticker.MaxNLocator(integer=True))\n",
    "    plt.axis([1, 50, 0, 1])\n",
    "    plt.legend(fontsize=14)\n",
    "    plt.xlabel(\"Epochs\")\n",
    "    plt.ylabel(\"Test set loss\")\n",
    "    plt.grid(True)\n",
    "    fig.savefig('loss_small.png', dpi=300)"
   ]
  },
  {
   "cell_type": "code",
   "execution_count": 22,
   "metadata": {},
   "outputs": [
    {
     "data": {
      "image/png": "[encoded data removed]",
      "text/plain": [
       "<Figure size 432x288 with 1 Axes>"
      ]
     },
     "metadata": {},
     "output_type": "display_data"
    }
   ],
   "source": [
    "plot_loss_curves(fc_history.history['val_loss'], cnn_history.history['val_loss'], qcnn_history.history['val_loss'])"
   ]
  },
  {
   "cell_type": "code",
   "execution_count": 23,
   "metadata": {},
   "outputs": [
    {
     "data": {
      "image/png": "[encoded data removed]",
      "text/plain": [
       "<Figure size 432x288 with 1 Axes>"
      ]
     },
     "metadata": {},
     "output_type": "display_data"
    }
   ],
   "source": [
    "plot_loss_curves_small(fc_history.history['val_loss'], cnn_history.history['val_loss'], qcnn_history.history['val_loss'])"
   ]
  },
  {
   "cell_type": "code",
   "execution_count": 24,
   "metadata": {
    "collapsed": true
   },
   "outputs": [],
   "source": [
    "def plot_acc_curves(fc_acc, cnn_acc, qcnn_acc):\n",
    "    fig = plt.figure()\n",
    "    plt.plot(np.arange(len(fc_acc)) + 1, fc_acc, \"go-\", label=\"fully-connected\")\n",
    "    plt.plot(np.arange(len(cnn_acc)) + 1, cnn_acc, \"rs-\", label=\"CNN\")\n",
    "    plt.plot(np.arange(len(qcnn_acc)) + 1, qcnn_acc, \"b^-\", label=\"QCNN\")\n",
    "    plt.gca().xaxis.set_major_locator(mpl.ticker.MaxNLocator(integer=True))\n",
    "    plt.grid()\n",
    "    plt.axis([1, 50, 0.8, 1])\n",
    "    plt.legend(fontsize=14)\n",
    "    plt.xlabel(\"Epochs\")\n",
    "    plt.ylabel(\"Test set accuracy\")\n",
    "    fig.savefig('accuracy.png', dpi=300)\n",
    "    \n",
    "def plot_acc_curves_small(fc_acc, cnn_acc, qcnn_acc):\n",
    "    fig = plt.figure()\n",
    "    plt.plot(np.arange(len(fc_acc))[::2] + 1, fc_acc[::2], \"go-\", label=\"fully-connected\")\n",
    "    plt.plot(np.arange(len(cnn_acc))[::2] + 1, cnn_acc[::2], \"rs-\", label=\"CNN\")\n",
    "    plt.plot(np.arange(len(qcnn_acc))[::2] + 1, qcnn_acc[::2], \"b^-\", label=\"QCNN\")\n",
    "    plt.gca().xaxis.set_major_locator(mpl.ticker.MaxNLocator(integer=True))\n",
    "    plt.grid()\n",
    "    plt.axis([1, 50, 0.8, 1])\n",
    "    plt.legend(fontsize=14)\n",
    "    plt.xlabel(\"Epochs\")\n",
    "    plt.ylabel(\"Test set accuracy\")\n",
    "    fig.savefig('accuracy_small.png', dpi=300)"
   ]
  },
  {
   "cell_type": "code",
   "execution_count": 25,
   "metadata": {},
   "outputs": [
    {
     "data": {
      "image/png": "[encoded data removed]",
      "text/plain": [
       "<Figure size 432x288 with 1 Axes>"
      ]
     },
     "metadata": {},
     "output_type": "display_data"
    }
   ],
   "source": [
    "plot_acc_curves(fc_history.history['val_accuracy'], cnn_history.history['val_accuracy'], qcnn_history.history['val_accuracy'])"
   ]
  },
  {
   "cell_type": "code",
   "execution_count": 26,
   "metadata": {},
   "outputs": [
    {
     "data": {
      "image/png": "[encoded data removed]",
      "text/plain": [
       "<Figure size 432x288 with 1 Axes>"
      ]
     },
     "metadata": {},
     "output_type": "display_data"
    }
   ],
   "source": [
    "plot_acc_curves_small(fc_history.history['val_accuracy'], cnn_history.history['val_accuracy'], qcnn_history.history['val_accuracy'])"
   ]
  },
  {
   "cell_type": "code",
   "execution_count": null,
   "metadata": {
    "collapsed": true
   },
   "outputs": [],
   "source": []
  }
 ],
 "metadata": {
  "kernelspec": {
   "display_name": "Python 3",
   "language": "python",
   "name": "python3"
  },
  "language_info": {
   "codemirror_mode": {
    "name": "ipython",
    "version": 3
   },
   "file_extension": ".py",
   "mimetype": "text/x-python",
   "name": "python",
   "nbconvert_exporter": "python",
   "pygments_lexer": "ipython3",
   "version": "3.6.2"
  }
 },
 "nbformat": 4,
 "nbformat_minor": 2
}
